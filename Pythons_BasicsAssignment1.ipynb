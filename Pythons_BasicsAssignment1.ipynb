{
  "nbformat": 4,
  "nbformat_minor": 0,
  "metadata": {
    "colab": {
      "provenance": []
    },
    "kernelspec": {
      "name": "python3",
      "display_name": "Python 3"
    },
    "language_info": {
      "name": "python"
    }
  },
  "cells": [
    {
      "cell_type": "code",
      "execution_count": 29,
      "metadata": {
        "colab": {
          "base_uri": "https://localhost:8080/"
        },
        "id": "StW5AoLfCOK7",
        "outputId": "4c02defa-f733-4da2-db98-c8243085c565"
      },
      "outputs": [
        {
          "output_type": "stream",
          "name": "stdout",
          "text": [
            "Hello, World!\n",
            "Name: Sarfaraz\n",
            "Age: 30\n"
          ]
        }
      ],
      "source": [
        "\"\"\"\n",
        "    Python Basics Assignment\n",
        "\n",
        "\n",
        "Q-1  What is Python, and why is it popular?\n",
        "Ans- Python is a high-level, interpreted, object-oriented programming language that is known for its readability and versatility. It was created by Guido van Rossum\n",
        "     and first released in 1991. Python is an open-source language, which means it is freely available to the public, and its source code can be shared and modified.\n",
        "     It supports multiple programming paradigms, including structured (particularly procedural), object-oriented, and functional programming.\n",
        "     It is popular because Python is used in various fields such as web development, data science, machine learning, automation, and scripting. It is known for its simplicity\n",
        "     and ease of learning, making it a popular choice for beginners. Python's syntax is similar to the English language, and it uses significant indentation to define the structure of code.\n",
        "\n",
        "\n",
        "Q-2   What is an interpreter in Python?\n",
        "Ans-  A Python interpreter is a program that executes Python code. Python is an interpreted language, meaning that it executes code line by line, rather than compiling the\n",
        "      entire code into machine language before execution. This allows for more flexibility and ease of debugging, as errors can be caught and corrected on the fly.\n",
        "\n",
        "\n",
        "Q 3- What are pre-defined keywords in Python?\n",
        "Ans- Python keywords refer to the set of reserved words in the Python programming language that are used to define specific instructions and functions.\n",
        "     These keywords have predefined meanings and cannot be used as variable names or identifiers. For example and, or,not,if,elif etc.\n",
        "\n",
        "Q-4-  Can keywords be used as variable names?\n",
        "Ans-  No, keywords cannot be used as variable names in Python. Keywords are reserved words that have special meaning in Python's syntax and are used to define the structure and syntax of the language.\n",
        "      Using keywords as variable names would cause a syntax error because the interpreter would not be able to differentiate between the keyword and the intended variable name.\n",
        "\n",
        "Q 5- What is mutability in Python?\n",
        "Ans - In Python, mutability refers to the ability of an object to be changed after it is created. Objects in Python can be classified into two categories: mutable and immutable.\n",
        "\n",
        "\n",
        "Q 6- Why are lists mutable, but tuples are immutable?\n",
        "Ans- Lists are mutable, meaning they can be changed after creation. This makes them suitable for dynamic operations, such as adding, removing, or modifying elements.\n",
        "     Their mutability allows for versatility in handling varying datasets, which is especially useful when the size or content of the collection may change over time.\n",
        "\n",
        "    Whereas, Tuples, on the other hand, are immutable, which means once they're created, their elements cannot be altered.\n",
        "     This immutability provides certain advantages, such as faster access times and increased safety, as the contents can't be accidentally modified.\n",
        "    Tuples are often used for fixed collections of items, such as coordinates, database records, or configuration settings, where the data remains constant\n",
        "\n",
        "\n",
        "Q 7- What is the difference between “==” and “is” operators in Python?\n",
        "Ans-  == Operator\n",
        "      The == operator is used to compare the values of two objects. It checks whether the values of the objects are equal, regardless of whether they are the same object in memory.\n",
        "\n",
        "      is Operator\n",
        "      The is operator is used to compare the identity of two objects. It checks whether the two references point to the same object in memory.\n",
        "\n",
        "      In summary, use == when you want to compare the values, and use is when you want to check if two references point to the same object in memory.\n",
        "      This distinction is crucial in understanding how Python handles objects and memory.\n",
        "\n",
        "\n",
        "Q 8- What are logical operators in Python?\n",
        "Ans- What are logical operators in Python?\n",
        "     Logical operators in Python are used to combine or modify the conditions and return a Boolean value (True or False) based on the logic of the expressions.\n",
        "     The three main logical operators in Python are and, or, and not.\n",
        "\n",
        "\n",
        "Q 9- What is type casting in Python?\n",
        "Ans- Type casting in Python is the process of converting one data type to another. It's often necessary when you need to perform operations that require a specific type of input.\n",
        "     Python supports both implicit and explicit type casting.\n",
        "\n",
        "Q 10-What is the difference between implicit and explicit type casting?\n",
        "Ans- Implicit Type Casting\n",
        "     Implicit type casting (also known as coercion) is performed automatically by Python. The interpreter automatically converts one data type to another to ensure compatibility during operations,\n",
        "     without explicit instruction from the programmer. This typically occurs in operations involving different numeric types.\n",
        "\n",
        "    Explicit Type Casting\n",
        "    Explicit type casting (also known as type conversion) is performed by the programmer using built-in functions.\n",
        "    This allows for precise control over the conversion process and ensures that data is in the correct format for specific operations.\n",
        "\n",
        "Q 11-What is the purpose of conditional statements in Python?\n",
        "Ans- Conditional statements in Python control the flow of a program based on specific conditions, allowing for decision-making, code branching, and loop control.\n",
        "     They execute certain blocks of code only when given conditions are met, making the program dynamic and responsive. These statements help build complex logical structures, enhance code readability,\n",
        "     and improve efficiency by ensuring that only relevant code is run. Examples include if, if-else, and if-elif-else constructs.\n",
        "\n",
        "\n",
        "Q-12-How does the elif statement work?\n",
        "Ans- The elif (short for \"else if\") statement in Python is used to check multiple conditions in a sequence after an initial if condition. When an if condition evaluates to False,\n",
        "     the program moves on to the elif condition. If the elif condition is True, the corresponding block of code is executed.\n",
        "     If no elif conditions are True, an optional else block can execute code as a fallback.\n",
        "\n",
        "    Example:\n",
        "\n",
        "    temperature = 30\n",
        "\n",
        "    if temperature > 35:\n",
        "        print(\"It's really hot outside.\")\n",
        "    elif temperature > 25:\n",
        "        print(\"It's warm outside.\")\n",
        "    elif temperature > 15:\n",
        "        print(\"It's mild outside.\")\n",
        "    else:\n",
        "        print(\"It's cold outside.\")\n",
        "\n",
        "\n",
        "    In this example:\n",
        "     The program checks the if condition first (temperature > 35).\n",
        "     If False, it checks the first elif condition (temperature > 25), which is True, so it prints \"It's warm outside.\"\n",
        "     The subsequent elif conditions are not checked because a True condition was found.\n",
        "\n",
        "Q 13-What is the difference between for and while loops?\n",
        "Ans- Both for and while loops in Python allow you to execute a block of code multiple times, but they differ in how they control the repetition.\n",
        "\n",
        "     for Loop\n",
        "     A for loop iterates over a sequence (like a list, tuple, string, or range) and executes the block of code for each element in the sequence.\n",
        "     It’s ideal when you know the number of iterations in advance.\n",
        "\n",
        "     while Loop\n",
        "     A while loop repeats a block of code as long as a specified condition is true. It's useful when the number of iterations is not known beforehand and depends on a condition.\n",
        "\n",
        "\n",
        "Q 14-Describe a scenario where a while loop is more suitable than a for loop.\n",
        "Ans- Scenario: User Input Validation\n",
        "     Imagine you are creating a program that requires users to enter a valid password. The password must meet certain criteria, such as a minimum length,\n",
        "     the presence of both letters and numbers, etc. You want to keep prompting the user until they enter a valid password.\n",
        "\n",
        "     Example:\n",
        "     # Function to check if the password is valid\n",
        "      def is_valid_password(password):\n",
        "         if len(password) < 8:\n",
        "            return False\n",
        "        if not any(char.isdigit() for char in password):\n",
        "            return False\n",
        "      if not any(char.isalpha() for char in password):\n",
        "           return False\n",
        "        return True\n",
        "\n",
        "    # Prompt user for a valid password\n",
        "    password = \"\"\n",
        "    while not is_valid_password(password):\n",
        "        password = input(\"Enter a valid password: \")\n",
        "\n",
        "    print(\"Password accepted!\")\n",
        "    Explanation:\n",
        "    Condition-Based Repetition: The while loop continues to prompt the user until the condition (not is_valid_password(password)) becomes False, meaning a valid password has been entered.\n",
        "    Indeterminate Iterations: The number of iterations is unknown in advance, as it depends on when the user enters a valid password. This makes the while loop more suitable than\n",
        "    a for loop, which requires a predefined sequence or range.\n",
        "\n",
        "    In this case, the while loop ensures that the program keeps asking for user input until the desired condition is met, making it the ideal choice for this scenario.\n",
        "\n",
        "\n",
        "\"\"\"\n",
        "\n",
        "     #Practical Questions\n",
        "\n",
        " # Q1- Write a Python program to print \"Hello, World!\n",
        "\n",
        "print(\"Hello, World!\")\n",
        "\n",
        "# Q2- Write a Python program that displays your name and age.\n",
        "\n",
        "name = \"Your Name\"  # Define variables for name and age\n",
        "age = \"Your Age\"\n",
        "\n",
        "# Print the name and age\n",
        "print(\"Name:\",\"Sarfaraz\")\n",
        "print(\"Age:\", 30)\n",
        "\n",
        "\n",
        "\n",
        "\n"
      ]
    },
    {
      "cell_type": "code",
      "source": [
        "# Q3- Write code to print all the pre-defined keywords in Python using the keyword library.\n",
        "\n",
        "import keyword\n",
        "\n",
        "# Get the list of all Python keywords\n",
        "keywords = keyword.kwlist\n",
        "\n",
        "# Print each keyword\n",
        "print(\"Python Keywords:\")\n",
        "for kw in keywords:\n",
        "    print(kw)\n"
      ],
      "metadata": {
        "colab": {
          "base_uri": "https://localhost:8080/"
        },
        "id": "w25fYBOmaclB",
        "outputId": "20913496-2c59-4f9a-dfd9-e1c1f0bd8082"
      },
      "execution_count": 28,
      "outputs": [
        {
          "output_type": "stream",
          "name": "stdout",
          "text": [
            "Python Keywords:\n",
            "False\n",
            "None\n",
            "True\n",
            "and\n",
            "as\n",
            "assert\n",
            "async\n",
            "await\n",
            "break\n",
            "class\n",
            "continue\n",
            "def\n",
            "del\n",
            "elif\n",
            "else\n",
            "except\n",
            "finally\n",
            "for\n",
            "from\n",
            "global\n",
            "if\n",
            "import\n",
            "in\n",
            "is\n",
            "lambda\n",
            "nonlocal\n",
            "not\n",
            "or\n",
            "pass\n",
            "raise\n",
            "return\n",
            "try\n",
            "while\n",
            "with\n",
            "yield\n"
          ]
        }
      ]
    },
    {
      "cell_type": "code",
      "source": [
        "# Q4- Write a program that checks if a given word is a Python keyword.\n",
        "\n",
        "import keyword\n",
        "\n",
        "# Function to check if a word is a Python keyword\n",
        "def is_keyword(word):\n",
        "    return keyword.iskeyword(word)\n",
        "\n",
        "# Input from the user\n",
        "word = input(\"Enter a word to check if it's a Python keyword: \")\n",
        "\n",
        "# Check and display the result\n",
        "if is_keyword(word):\n",
        "    print(f'\"{word}\" is a Python keyword.')\n",
        "else:\n",
        "    print(f'\"{word}\" is not a Python keyword.')\n",
        "\n"
      ],
      "metadata": {
        "colab": {
          "base_uri": "https://localhost:8080/"
        },
        "id": "3DKT-6HiZTBq",
        "outputId": "9182b55f-e7e3-470f-fff0-065426dd11cb"
      },
      "execution_count": 26,
      "outputs": [
        {
          "output_type": "stream",
          "name": "stdout",
          "text": [
            "Enter a word to check if it's a Python keyword: if\n",
            "\"if\" is a Python keyword.\n"
          ]
        }
      ]
    },
    {
      "cell_type": "code",
      "source": [
        "# Q5- Create a list and tuple in Python, and demonstrate how attempting to change an element works differently for each.\n",
        "\n",
        "# Creating a list\n",
        "my_list = [10, 20, 30, 40]\n",
        "print(\"Original List:\", my_list)\n",
        "\n",
        "# Creating a tuple\n",
        "my_tuple = (10, 20, 30, 40)\n",
        "print(\"Original Tuple:\", my_tuple)\n",
        "\n",
        "\n",
        "# Changing the second element of the list\n",
        "my_list[1] = 25\n",
        "print(\"Modified List:\", my_list)\n",
        "\n",
        "# Trying to change the second element of the tuple\n",
        "try:\n",
        "    my_tuple[1] = 25\n",
        "except TypeError as e:\n",
        "    print(\"Error:\", e)\n",
        ""
      ],
      "metadata": {
        "colab": {
          "base_uri": "https://localhost:8080/"
        },
        "id": "W6AtE3c2ZFZK",
        "outputId": "62d43c8b-e869-4713-af4b-9b898788dceb"
      },
      "execution_count": 23,
      "outputs": [
        {
          "output_type": "stream",
          "name": "stdout",
          "text": [
            "Original List: [10, 20, 30, 40]\n",
            "Original Tuple: (10, 20, 30, 40)\n",
            "Modified List: [10, 25, 30, 40]\n",
            "Error: 'tuple' object does not support item assignment\n"
          ]
        }
      ]
    },
    {
      "cell_type": "code",
      "source": [
        "# Q6- Write a function to demonstrate the behavior of mutable and immutable arguments.\n",
        "\n",
        "# Define a function to demonstrate mutable and immutable arguments\n",
        "def modify_arguments(a_list, a_tuple, an_int):\n",
        "    # Modifying the list (mutable)\n",
        "    a_list.append(100)\n",
        "    # Attempting to modify the tuple (immutable)\n",
        "    new_tuple = a_tuple + (100,)\n",
        "    # Modifying the integer (immutable)\n",
        "    an_int += 100\n",
        "    return a_list, new_tuple, an_int\n",
        "\n",
        "# Initialize the variables\n",
        "my_list = [1, 2, 3]\n",
        "my_tuple = (1, 2, 3)\n",
        "my_int = 10\n",
        "\n",
        "# Call the function\n",
        "new_list, new_tuple, new_int = modify_arguments(my_list, my_tuple, my_int)\n",
        "\n",
        "# Display the results\n",
        "print(\"Original List:\", my_list)\n",
        "print(\"Modified List:\", new_list)\n",
        "print(\"Original Tuple:\", my_tuple)\n",
        "print(\"Modified Tuple:\", new_tuple)\n",
        "print(\"Original Integer:\", my_int)\n",
        "print(\"Modified Integer:\", new_int)\n",
        "\n"
      ],
      "metadata": {
        "colab": {
          "base_uri": "https://localhost:8080/"
        },
        "id": "j3Gw9MCxYpMt",
        "outputId": "a5cec283-aca6-4968-fbc9-6abe6b22bf08"
      },
      "execution_count": 22,
      "outputs": [
        {
          "output_type": "stream",
          "name": "stdout",
          "text": [
            "Original List: [1, 2, 3, 100]\n",
            "Modified List: [1, 2, 3, 100]\n",
            "Original Tuple: (1, 2, 3)\n",
            "Modified Tuple: (1, 2, 3, 100)\n",
            "Original Integer: 10\n",
            "Modified Integer: 110\n"
          ]
        }
      ]
    },
    {
      "cell_type": "code",
      "source": [
        "#Q8- Write a program to demonstrate the use of logical operators.\n",
        "\n",
        "# Define variables for demonstration\n",
        "a = True\n",
        "b = False\n",
        "c = True\n",
        "\n",
        "# Using 'and' operator\n",
        "print(\"a and b:\", a and b)  # False, because b is False\n",
        "print(\"a and c:\", a and c)  # True, because both are True\n",
        "\n",
        "# Using 'or' operator\n",
        "print(\"a or b:\", a or b)  # True, because a is True\n",
        "print(\"b or False:\", b or False)  # False, because both are False\n",
        "\n",
        "# Using 'not' operator\n",
        "print(\"not a:\", not a)  # False, because a is True\n",
        "print(\"not b:\", not b)  # True, because b is False\n",
        "\n",
        "# Combining logical operators\n",
        "print(\"a and not b:\", a and not b)  # True, because not b is True\n",
        "print(\"a or (b and c):\", a or (b and c))  # True, because a is True\n"
      ],
      "metadata": {
        "colab": {
          "base_uri": "https://localhost:8080/"
        },
        "id": "MfsGPRLYYVgu",
        "outputId": "d3197153-619c-4f76-fa09-77502b06ae33"
      },
      "execution_count": 21,
      "outputs": [
        {
          "output_type": "stream",
          "name": "stdout",
          "text": [
            "a and b: False\n",
            "a and c: True\n",
            "a or b: True\n",
            "b or False: False\n",
            "not a: False\n",
            "not b: True\n",
            "a and not b: True\n",
            "a or (b and c): True\n"
          ]
        }
      ]
    },
    {
      "cell_type": "code",
      "source": [
        "#Q9- Write a Python program to convert user input from string to integer, float, and boolean types.\n",
        "\n",
        "# Function to convert and display different types\n",
        "def convert_input(user_input):\n",
        "    # Converting to integer\n",
        "    try:\n",
        "        int_value = int(user_input)\n",
        "        print(\"Integer:\", int_value)\n",
        "    except ValueError:\n",
        "        print(\"Cannot convert to Integer\")\n",
        "\n",
        "    # Converting to float\n",
        "    try:\n",
        "        float_value = float(user_input)\n",
        "        print(\"Float:\", float_value)\n",
        "    except ValueError:\n",
        "        print(\"Cannot convert to Float\")\n",
        "\n",
        "    # Converting to boolean\n",
        "    bool_value = bool(user_input)\n",
        "    print(\"Boolean:\", bool_value)\n",
        "\n",
        "# Taking user input as a string\n",
        "user_input = input(\"Enter a value: \")\n",
        "\n",
        "# Calling the function to convert input\n",
        "convert_input(user_input)\n"
      ],
      "metadata": {
        "colab": {
          "base_uri": "https://localhost:8080/"
        },
        "id": "jWrCSyvyYDW3",
        "outputId": "df0f057c-3ce0-43e5-f59a-61f4638d3379"
      },
      "execution_count": 20,
      "outputs": [
        {
          "output_type": "stream",
          "name": "stdout",
          "text": [
            "Enter a value: 13\n",
            "Integer: 13\n",
            "Float: 13.0\n",
            "Boolean: True\n"
          ]
        }
      ]
    },
    {
      "cell_type": "code",
      "source": [
        "# Q10- Write code to demonstrate type casting with list elements.\n",
        "\n",
        "# Original list with elements of different types as strings\n",
        "string_list = [\"1\", \"2.5\", \"True\", \"45\"]\n",
        "\n",
        "# List to store casted elements\n",
        "int_list = []\n",
        "float_list = []\n",
        "bool_list = []\n",
        "\n",
        "# Casting each element in the list\n",
        "for element in string_list:\n",
        "    # Try to cast to integer\n",
        "    try:\n",
        "        int_list.append(int(element))\n",
        "    except ValueError:\n",
        "        int_list.append(None)  # Append None if conversion fails\n",
        "\n",
        "    # Try to cast to float\n",
        "    try:\n",
        "        float_list.append(float(element))\n",
        "    except ValueError:\n",
        "        float_list.append(None)  # Append None if conversion fails\n",
        "\n",
        "    # Cast to boolean (no ValueError handling needed since all strings can be casted to bool)\n",
        "    bool_list.append(bool(element))\n",
        "\n",
        "# Print the original and casted lists\n",
        "print(\"Original List:\", string_list)\n",
        "print(\"Integer List:\", int_list)\n",
        "print(\"Float List:\", float_list)\n",
        "print(\"Boolean List:\", bool_list)\n",
        "\n",
        "\n",
        "\n"
      ],
      "metadata": {
        "colab": {
          "base_uri": "https://localhost:8080/"
        },
        "id": "I-5A-0Cua6cu",
        "outputId": "061fa99a-68b5-4e00-c93b-4e0efa092a53"
      },
      "execution_count": 30,
      "outputs": [
        {
          "output_type": "stream",
          "name": "stdout",
          "text": [
            "Original List: ['1', '2.5', 'True', '45']\n",
            "Integer List: [1, None, None, 45]\n",
            "Float List: [1.0, 2.5, None, 45.0]\n",
            "Boolean List: [True, True, True, True]\n"
          ]
        }
      ]
    },
    {
      "cell_type": "code",
      "source": [
        "# Q 11- Write a program that checks if a number is positive, negative, or zero.\n",
        "\n",
        "# Function to check the number\n",
        "def check_number(num):\n",
        "    if num > 0:\n",
        "        return \"The number is positive.\"\n",
        "    elif num < 0:\n",
        "        return \"The number is negative.\"\n",
        "    else:\n",
        "        return \"The number is zero.\"\n",
        "\n",
        "# Input from the user\n",
        "number = float(input(\"Enter a number: \"))\n",
        "\n",
        "# Check and display the result\n",
        "result = check_number(number)\n",
        "print(result)\n",
        "\n",
        "\n",
        "\n"
      ],
      "metadata": {
        "colab": {
          "base_uri": "https://localhost:8080/"
        },
        "id": "BR9oWGiUbaEM",
        "outputId": "6cf17a2d-d7fb-4b56-b1ae-4c99243d80c3"
      },
      "execution_count": 31,
      "outputs": [
        {
          "output_type": "stream",
          "name": "stdout",
          "text": [
            "Enter a number: 33\n",
            "The number is positive.\n"
          ]
        }
      ]
    },
    {
      "cell_type": "code",
      "source": [
        "#Q 12-Write a for loop to print numbers from 1 to 10.\n",
        "\n",
        "# Using a for loop to print numbers from 1 to 10\n",
        "for i in range(1, 11):\n",
        "    print(i)\n",
        "\n",
        "\n"
      ],
      "metadata": {
        "colab": {
          "base_uri": "https://localhost:8080/"
        },
        "id": "y478W399bsSX",
        "outputId": "27fe4500-1b32-4b4c-b195-96be8936051f"
      },
      "execution_count": 32,
      "outputs": [
        {
          "output_type": "stream",
          "name": "stdout",
          "text": [
            "1\n",
            "2\n",
            "3\n",
            "4\n",
            "5\n",
            "6\n",
            "7\n",
            "8\n",
            "9\n",
            "10\n"
          ]
        }
      ]
    },
    {
      "cell_type": "code",
      "source": [
        "# Q 13- Write a Python program to find the sum of all even numbers between 1 and 50.\n",
        "\n",
        "# Initialize the sum variable\n",
        "sum_even = 0\n",
        "\n",
        "# Loop through numbers from 1 to 50\n",
        "for num in range(1, 51):\n",
        "    # Check if the number is even\n",
        "    if num % 2 == 0:\n",
        "        sum_even += num\n",
        "\n",
        "# Print the result\n",
        "print(\"The sum of all even numbers between 1 and 50 is:\", sum_even)\n",
        "\n",
        "\n",
        "\n"
      ],
      "metadata": {
        "colab": {
          "base_uri": "https://localhost:8080/"
        },
        "id": "In0O3RiKfPJE",
        "outputId": "2ff0dca4-ed65-424a-d15d-4952bab7bf62"
      },
      "execution_count": 33,
      "outputs": [
        {
          "output_type": "stream",
          "name": "stdout",
          "text": [
            "The sum of all even numbers between 1 and 50 is: 650\n"
          ]
        }
      ]
    },
    {
      "cell_type": "code",
      "source": [
        "# Q14-Write a program to reverse a string using a while loop.\n",
        "\n",
        "# Function to reverse a string using a while loop\n",
        "def reverse_string(input_string):\n",
        "    # Initialize an empty string to store the reversed string\n",
        "    reversed_string = \"\"\n",
        "    # Get the length of the input string\n",
        "    index = len(input_string) - 1\n",
        "\n",
        "    # Loop through the string in reverse order\n",
        "    while index >= 0:\n",
        "        reversed_string += input_string[index]\n",
        "        index -= 1\n",
        "\n",
        "    return reversed_string\n",
        "\n",
        "# Input from the user\n",
        "user_input = input(\"Enter a string to reverse: \")\n",
        "\n",
        "# Call the function and display the result\n",
        "result = reverse_string(user_input)\n",
        "print(\"Reversed String:\", result)\n",
        "\n",
        "\n",
        "\n"
      ],
      "metadata": {
        "colab": {
          "base_uri": "https://localhost:8080/"
        },
        "id": "KPJdXFEXfeXH",
        "outputId": "9b4ccf58-cf0f-412e-8976-155aa7a13f85"
      },
      "execution_count": 34,
      "outputs": [
        {
          "output_type": "stream",
          "name": "stdout",
          "text": [
            "Enter a string to reverse: loop\n",
            "Reversed String: pool\n"
          ]
        }
      ]
    },
    {
      "cell_type": "code",
      "source": [
        "#Q15-  Write a Python program to calculate the factorial of a number provided by the user using a while loop.\n",
        "\n",
        "# Function to calculate factorial using a while loop\n",
        "def calculate_factorial(number):\n",
        "    if number < 0:\n",
        "        return \"Factorial is not defined for negative numbers.\"\n",
        "    factorial = 1\n",
        "    while number > 0:\n",
        "        factorial *= number\n",
        "        number -= 1\n",
        "    return factorial\n",
        "\n",
        "# Input from the user\n",
        "user_input = int(input(\"Enter a number to calculate its factorial: \"))\n",
        "\n",
        "# Call the function and display the result\n",
        "result = calculate_factorial(user_input)\n",
        "print(\"The factorial is:\", result)\n",
        "\n",
        "\n"
      ],
      "metadata": {
        "colab": {
          "base_uri": "https://localhost:8080/"
        },
        "id": "HTaZjRdPft5L",
        "outputId": "5a97be75-4c40-449b-c471-56159825ae84"
      },
      "execution_count": 35,
      "outputs": [
        {
          "output_type": "stream",
          "name": "stdout",
          "text": [
            "Enter a number to calculate its factorial: 5\n",
            "The factorial is: 120\n"
          ]
        }
      ]
    }
  ]
}